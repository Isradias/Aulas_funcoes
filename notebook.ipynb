{
 "cells": [
  {
   "cell_type": "markdown",
   "id": "49f7f666",
   "metadata": {},
   "source": [
    "# Funções"
   ]
  },
  {
   "cell_type": "markdown",
   "id": "c0a28026",
   "metadata": {},
   "source": [
    "1. Escreva um código que lê a lista abaixo e faça:\n",
    "\n",
    "lista = [16, 14, 63, 65, 17, 99, 70, 11, 20, 48, 79, 32, 17, 89, 12, 25, 66]  \n",
    "\n",
    "* A leitura do tamanho da lista  \n",
    "* A leitura do maior e menor valor  \n",
    "* A soma dos valores da lista  \n",
    "  \n",
    "Ao final exiba uma mensagem dizendo:  \n",
    "  \n",
    "\"A lista possui [tam] números em que o maior número é [maior] e o menor número é [menor]. A soma dos valores presentes nela é igual a [soma]\""
   ]
  },
  {
   "cell_type": "code",
   "execution_count": 1,
   "id": "f810e139",
   "metadata": {},
   "outputs": [
    {
     "name": "stdout",
     "output_type": "stream",
     "text": [
      "A lista possui 17 números em que o maior número é 99 e o menor número é 11. A soma dos valores presentes nela é igual a 743\n"
     ]
    }
   ],
   "source": [
    "lista = [16, 14, 63, 65, 17, 99, 70, 11, 20, 48, 79, 32, 17, 89, 12, 25, 66]\n",
    "\n",
    "tam = len(lista)\n",
    "maior = max(lista)\n",
    "menor = min(lista)\n",
    "soma = sum(lista)\n",
    "\n",
    "print(f\"A lista possui {tam} números em que o maior número é {maior} e o menor número é {menor}. A soma dos valores presentes nela é igual a {soma}\")"
   ]
  },
  {
   "cell_type": "markdown",
   "id": "f88a8059",
   "metadata": {},
   "source": [
    "2. Escreva uma função que gere a tabuada de um número inteiro de 1 a 10, de acordo com a escolha da pessoa usuária. Como exemplo, para o número 7, a tabuada deve ser mostrada no seguinte formato:  \n",
    "  \n",
    "Tabuada do 7:  \n",
    "* 7 x 0 = 0  \n",
    "* 7 x 1 = 7  \n",
    "* [...]  \n",
    "* 7 x 10 = 70  "
   ]
  },
  {
   "cell_type": "code",
   "execution_count": 2,
   "id": "d3a557ff",
   "metadata": {},
   "outputs": [
    {
     "name": "stdout",
     "output_type": "stream",
     "text": [
      "Tabuada do 3\n",
      "\n",
      "3x1=3\n",
      "3x2=6\n",
      "3x3=9\n",
      "3x4=12\n",
      "3x5=15\n",
      "3x6=18\n",
      "3x7=21\n",
      "3x8=24\n",
      "3x9=27\n",
      "3x10=30\n"
     ]
    }
   ],
   "source": [
    "try:\n",
    "    num = int(input('Digite um número'))\n",
    "    i = 1\n",
    "    print(f'Tabuada do {num}\\n')\n",
    "    while i <= 10:\n",
    "        print (f\"{num}x{i}={i*num}\")\n",
    "        i += 1\n",
    "except:\n",
    "    print('Por favor, digite um número')"
   ]
  },
  {
   "cell_type": "markdown",
   "id": "09f26961",
   "metadata": {},
   "source": [
    "3. Crie a função que leia a lista abaixo e retorne uma nova lista com os múltiplos de 3:  \n",
    "  \n",
    "* [97, 80, 94, 88, 80, 1, 16, 53, 62, 32, 24, 99]\n",
    "  \n",
    "Utilize o return na função e salve a nova lista na variável mult_3"
   ]
  },
  {
   "cell_type": "code",
   "execution_count": 3,
   "id": "5e18affe",
   "metadata": {},
   "outputs": [
    {
     "name": "stdout",
     "output_type": "stream",
     "text": [
      "[24, 99]\n"
     ]
    }
   ],
   "source": [
    "lista = [97, 80, 94, 88, 80, 1, 16, 53, 62, 32, 24, 99]\n",
    "numeros = [1, 5, 12, 23, 34, 45, 56, 67, 78, 89, 90, 101, 112, 123, 134, 145, 156, 167, 178, 189, 200] #Para testar mais um pouco\n",
    "\n",
    "mult_3 =[]\n",
    "\n",
    "def multiplo(lista):\n",
    "    for x in lista:\n",
    "        if x/3 == round(x/3):\n",
    "            mult_3.append(x)\n",
    "        else:\n",
    "            pass\n",
    "    return mult_3\n",
    "\n",
    "print(multiplo(lista))"
   ]
  },
  {
   "cell_type": "markdown",
   "id": "2deb8530",
   "metadata": {},
   "source": [
    "4. Crie uma lista dos quadrados dos números da seguinte lista:  \n",
    "[1, 2, 3, 4, 5, 6, 7, 8, 9, 10]  \n",
    "Lembre-se de utilizar as funções lambda e map() para calcular o quadrado de cada elemento da lista."
   ]
  },
  {
   "cell_type": "code",
   "execution_count": 4,
   "id": "bd2966a3",
   "metadata": {},
   "outputs": [
    {
     "name": "stdout",
     "output_type": "stream",
     "text": [
      "[1, 4, 9, 16, 25, 36, 49, 64, 81, 100]\n"
     ]
    }
   ],
   "source": [
    "lista = [1, 2, 3, 4, 5, 6, 7, 8, 9, 10]  \n",
    "\n",
    "print(list(map(lambda x : x**2, lista)))"
   ]
  },
  {
   "cell_type": "markdown",
   "id": "9a013315",
   "metadata": {},
   "source": [
    "# Aplicando a projetos"
   ]
  },
  {
   "cell_type": "markdown",
   "id": "92f1b235",
   "metadata": {},
   "source": [
    "5. Você foi contratado(a) como cientista de dados de uma associação de skate. Para analisar as notas recebidas de skatistas em algumas competições ao longo do ano, você precisa criar um código que calcula a pontuação dos(as) atletas. Para isso, o seu código deve receber 5 notas digitadas pelas pessoas juradas.  \n",
    "  \n",
    "Para calcular a pontuação de um(a) skatista, você precisa eliminar a maior e a menor pontuação dentre as 5 notas e tirar a média das 3 notas que sobraram. Retorne a média para apresentar o texto:  \n",
    "  \n",
    "* \"Nota da manobra: [media]\""
   ]
  },
  {
   "cell_type": "code",
   "execution_count": 19,
   "id": "c9bb3548",
   "metadata": {},
   "outputs": [
    {
     "name": "stdout",
     "output_type": "stream",
     "text": [
      "Nota da manobra: 3.0\n"
     ]
    }
   ],
   "source": [
    "notas = [int(input('Digite a Primeira nota')),\n",
    "         int(input('Digite a Segunda nota')),\n",
    "         int(input('Digite a Terceira nota')),\n",
    "         int(input('Digite a Quarta nota')),\n",
    "         int(input('Digite a Quinta nota'))]\n",
    "\n",
    "def media_skate(lista):\n",
    "    notas.remove(max(lista))\n",
    "    notas.remove(min(lista))\n",
    "    return sum(lista)/len(lista)\n",
    "\n",
    "print(f'Nota da manobra: {media_skate(notas)}')\n"
   ]
  },
  {
   "cell_type": "markdown",
   "id": "ff47313f",
   "metadata": {},
   "source": [
    "6. Para atender a uma demanda de uma instituição de ensino para a análise do desempenho de seus(suas) estudantes, você precisa criar uma função que receba uma lista de 4 notas e retorne:\n",
    "\n",
    "* maior nota\n",
    "* menor nota\n",
    "* média\n",
    "* situação (Aprovado(a) ou Reprovado(a))\n",
    "\n",
    "Para testar o comportamento da função, os dados podem ser exibidos em um texto:\n",
    "\"O(a) estudante obteve uma média de [media], com a sua maior nota de [maior] pontos e a menor nota de [menor] pontos e foi [situacao]\""
   ]
  },
  {
   "cell_type": "code",
   "execution_count": null,
   "id": "d388c8b4",
   "metadata": {},
   "outputs": [
    {
     "name": "stdout",
     "output_type": "stream",
     "text": [
      "O(a) estudante obteve uma média de 4.75, com a sua maior nota de 7 pontos e a menor nota de 1 pontos e foi Reprovado\n"
     ]
    }
   ],
   "source": [
    "try:\n",
    "    notas = [int(input('Digite a Primeira nota')),\n",
    "            int(input('Digite a Segunda nota')),\n",
    "            int(input('Digite a Terceira nota')),\n",
    "            int(input('Digite a Quarta nota'))]\n",
    "    \n",
    "    maior = max(notas)\n",
    "    menor = min(notas)\n",
    "    media = sum(notas)/len(notas)\n",
    "    situacao = 'Aprovado' if media >=7 else 'Reprovado'\n",
    "\n",
    "    print(f\"O(a) estudante obteve uma média de {media}, com a sua maior nota de {maior} pontos e a menor nota de {menor} pontos e foi {situacao}\")\n",
    "except:\n",
    "    print('Digite apenas números')"
   ]
  },
  {
   "cell_type": "markdown",
   "id": "ff9d92cb",
   "metadata": {},
   "source": [
    "7. Você recebeu uma demanda para tratar 2 listas com os nomes e sobrenomes de cada estudante concatenando-as para apresentar seus nomes completos na forma Nome Sobrenome. As listas são:  \n",
    "  \n",
    "* nomes = [\"joão\", \"MaRia\", \"JOSÉ\"]  \n",
    "* sobrenomes = [\"SILVA\", \"souza\", \"Tavares\"]  \n",
    "  \n",
    "O texto exibido ao fim deve ser parecido com:  \n",
    "  \n",
    "* \"Nome completo: Ana Silva\""
   ]
  },
  {
   "cell_type": "code",
   "execution_count": 70,
   "id": "ef8f6c38",
   "metadata": {},
   "outputs": [
    {
     "name": "stdout",
     "output_type": "stream",
     "text": [
      "Nome completo: João Silva\n",
      "Nome completo: Maria Souza\n",
      "Nome completo: José Tavares\n"
     ]
    }
   ],
   "source": [
    "nomes = [\"joão\", \"MaRia\", \"JOSÉ\"]\n",
    "sobrenomes = [\"SILVA\", \"souza\", \"Tavares\"]\n",
    "\n",
    "nomes_completos = []\n",
    "\n",
    "x=0\n",
    "\n",
    "while x <= len(nomes)-1:\n",
    "    nomes_completos.append(nomes[x] + \" \" + sobrenomes[x])\n",
    "    x += 1\n",
    "\n",
    "nomes_completos = list(map(lambda x : x.title(), nomes_completos)) #Para deixar apenas as primeiras letras em maiúsculo\n",
    "\n",
    "for x in nomes_completos:\n",
    "    print(f'Nome completo: {x}')\n",
    "\n",
    "#Procurar mais sobre a função zip"
   ]
  },
  {
   "cell_type": "markdown",
   "id": "738609e2",
   "metadata": {},
   "source": [
    "8. Como cientista de dados em um time de futebol, você precisa implementar novas formas de coleta de dados sobre o desempenho de jogadores e do time como um todo. Sua primeira ação é criar uma forma de calcular a pontuação do time no campeonato nacional a partir dos dados de gols marcados e sofridos em cada jogo.  \n",
    "  \n",
    "Escreva uma função chamada calcula_pontos que recebe como parâmetros duas listas de números inteiros, representando os gols marcados e sofridos pelo time em cada partida do campeonato. A função deve retornar a pontuação do time e o aproveitamento em percentual, levando em consideração que a vitória vale 3 pontos, o empate vale 1 ponto e a derrota 0 pontos.  \n",
    "  \n",
    "* Observação: se a quantidade de gols marcados numa partida for maior que a de sofridos, o time venceu. Caso seja igual, o time empatou e se for menor, o time perdeu. Para calcular o aproveitamento devemos fazer a razão entre a pontuação do time pela pontuação máxima que ele poderia receber.  \n",
    "  \n",
    "Para teste, utilize as seguintes listas de gols marcados e sofridos:  \n",
    "* gols_marcados = [2, 1, 3, 1, 0]  \n",
    "* gols_sofridos = [1, 2, 2, 1, 3]  \n",
    "  \n",
    "Provável texto exibido:  \n",
    "  \n",
    "* \"A pontuação do time foi de [pontos] e seu aproveitamento foi de [aprov]%\""
   ]
  },
  {
   "cell_type": "code",
   "execution_count": 93,
   "id": "985c6b65",
   "metadata": {},
   "outputs": [
    {
     "name": "stdout",
     "output_type": "stream",
     "text": [
      "A pontuação do time foi de 7 e seu aproveitamento foi de 46.67%\n"
     ]
    }
   ],
   "source": [
    "gols_marcados = [2, 1, 3, 1, 0]\n",
    "gols_sofridos = [1, 2, 2, 1, 3]\n",
    "\n",
    "num_jogos = len(gols_marcados)\n",
    "\n",
    "\n",
    "\n",
    "def calcula_pontos(marcados, sofridos):\n",
    "    x=0\n",
    "    pontuação = 0\n",
    "    while x < num_jogos:\n",
    "        if marcados[x]>sofridos[x]:\n",
    "            pontuação += 3\n",
    "            x += 1\n",
    "        elif marcados[x]==sofridos[x]:\n",
    "            pontuação +=1\n",
    "            x += 1\n",
    "        else:\n",
    "            x += 1\n",
    "    aproveitamento = round(pontuação*100/(num_jogos*3), 2)\n",
    "    return pontuação, aproveitamento\n",
    "\n",
    "print(f'A pontuação do time foi de {calcula_pontos(gols_marcados,gols_sofridos)[0]} e seu aproveitamento foi de {calcula_pontos(gols_marcados, gols_sofridos)[1]}%')"
   ]
  }
 ],
 "metadata": {
  "kernelspec": {
   "display_name": "base",
   "language": "python",
   "name": "python3"
  },
  "language_info": {
   "codemirror_mode": {
    "name": "ipython",
    "version": 3
   },
   "file_extension": ".py",
   "mimetype": "text/x-python",
   "name": "python",
   "nbconvert_exporter": "python",
   "pygments_lexer": "ipython3",
   "version": "3.12.7"
  }
 },
 "nbformat": 4,
 "nbformat_minor": 5
}
